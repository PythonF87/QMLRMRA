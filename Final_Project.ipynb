{
 "cells": [
  {
   "cell_type": "markdown",
   "metadata": {},
   "source": [
    "# Final"
   ]
  },
  {
   "cell_type": "code",
   "execution_count": 1,
   "metadata": {},
   "outputs": [],
   "source": [
    "def QuantaMental(x):\n",
    "    to_screen = []\n",
    "    for stock in x:\n",
    "        try:\n",
    "            df_test = dr.data.get_data_yahoo(stock, start = datetime.datetime.now() - datetime.timedelta(days=5*365), end = datetime.datetime.now())\n",
    "            df_test = df_test.transpose()\n",
    "            df_test = df_test.loc['Adj Close']\n",
    "            df_test = df_test.transpose()\n",
    "            df_test = pd.DataFrame(df_test)\n",
    "            df_test.reset_index(level=0, inplace=True)\n",
    "            df_test['Date'] = df_test['Date'].astype('datetime64')\n",
    "            df_test.rename(columns = {'Date': 'date', 'Adj Close': 'adj_close'}, inplace = True)\n",
    "\n",
    "            def calc_slope(x):\n",
    "                slope = np.polyfit(range(len(x)), x, 1)[0]\n",
    "                return slope\n",
    "            \n",
    "            edf = si.get_cash_flow(stock)\n",
    "            edf = edf.loc['netIncome']\n",
    "            edf = pd.DataFrame(edf)\n",
    "            Earnings = (((edf['netIncome'][0]-edf['netIncome'][1])/edf['netIncome'][1])+((edf['netIncome'][1]-edf['netIncome'][2])/edf['netIncome'][2])+((edf['netIncome'][2]-edf['netIncome'][3])/edf['netIncome'][3]))/4\n",
    "\n",
    "            df_test['STD_DEV'] = df_test['adj_close'].rolling(window=264).std()\n",
    "    #creates a column for 264 day (1 year - weekends) moving average\n",
    "            df_test['Moving_Average'] = df_test['adj_close'].rolling(window=264).mean()\n",
    "    #creates a z-score column as it compares to the 264 day rolling average and STD_DEV\n",
    "            df_test['Z-Score'] = ((df_test['adj_close']-df_test['adj_close'].rolling(window=264).mean().shift(1))/df_test['adj_close'].rolling(window=264).std(ddof=0).shift(1))\n",
    "    #creates a rolling slope column\n",
    "            df_test['Rolling_Slope'] = df_test.adj_close.rolling(1825, min_periods=2).apply(calc_slope)\n",
    "    #creates an average earnings column\n",
    "            df_test['Earnings'] = Earnings\n",
    "    #creates a column which holds a TRUE value if the stock has a z-score of -1.5 or less\n",
    "            df_test['Criteria_1'] = df_test['Z-Score'] <= -1.5\n",
    "    #creates a column which holds a TRUE value if the 5y trendline has a positive slope\n",
    "            df_test['Criteria_2'] = df_test['Rolling_Slope'] > 0\n",
    "    #creates a column which holds True if the stock has a positive earnings growth average\n",
    "            df_test['Criteria_3'] = df_test['Earnings'] > 0\n",
    "    #to chop the end of the dataframe and only use true criteria from the past quarter so we're using relevent data\n",
    "            df_test = df_test.tail(66)\n",
    "    #creates a column to test if the criterias are true in the past month\n",
    "            df_test['Final_Criteria'] = (df_test['Criteria_1'] & df_test['Criteria_2'] & df_test['Criteria_3']) == True\n",
    "    #creates a column that holds a TRUE value if all above criteria are also TRUE WITHIN THE PAST QUARTER\n",
    "            for i in df_test['Final_Criteria']:\n",
    "                if i == True:\n",
    "                    to_screen.append(stock)\n",
    "                    break\n",
    "        except:\n",
    "            pass\n",
    "        \n",
    "    return to_screen"
   ]
  },
  {
   "cell_type": "code",
   "execution_count": 2,
   "metadata": {},
   "outputs": [
    {
     "ename": "SyntaxError",
     "evalue": "unexpected EOF while parsing (<ipython-input-2-54bf6b6e9a23>, line 2)",
     "output_type": "error",
     "traceback": [
      "\u001b[0;36m  File \u001b[0;32m\"<ipython-input-2-54bf6b6e9a23>\"\u001b[0;36m, line \u001b[0;32m2\u001b[0m\n\u001b[0;31m    screened\u001b[0m\n\u001b[0m            ^\u001b[0m\n\u001b[0;31mSyntaxError\u001b[0m\u001b[0;31m:\u001b[0m unexpected EOF while parsing\n"
     ]
    }
   ],
   "source": [
    "screened = QuantaMental(#si.tickers_sp500())\n",
    "screened"
   ]
  },
  {
   "cell_type": "code",
   "execution_count": null,
   "metadata": {},
   "outputs": [],
   "source": []
  }
 ],
 "metadata": {
  "kernelspec": {
   "display_name": "Python 3",
   "language": "python",
   "name": "python3"
  },
  "language_info": {
   "codemirror_mode": {
    "name": "ipython",
    "version": 3
   },
   "file_extension": ".py",
   "mimetype": "text/x-python",
   "name": "python",
   "nbconvert_exporter": "python",
   "pygments_lexer": "ipython3",
   "version": "3.8.5"
  }
 },
 "nbformat": 4,
 "nbformat_minor": 4
}
